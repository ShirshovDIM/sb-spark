{
 "cells": [
  {
   "cell_type": "code",
   "execution_count": 1,
   "metadata": {},
   "outputs": [
    {
     "name": "stdout",
     "output_type": "stream",
     "text": [
      "Marking com.datastax.spark:spark-cassandra-connector_2.11:2.4.3 for download\n",
      "Obtained 2 files\n"
     ]
    },
    {
     "data": {
      "text/plain": [
       "Waiting for a Spark session to start..."
      ]
     },
     "metadata": {},
     "output_type": "display_data"
    },
    {
     "name": "stdout",
     "output_type": "stream",
     "text": [
      "Marking org.elasticsearch:elasticsearch-spark-20_2.11:6.8.22 for download\n",
      "Obtained 2 files\n"
     ]
    },
    {
     "data": {
      "text/plain": [
       "Waiting for a Spark session to start..."
      ]
     },
     "metadata": {},
     "output_type": "display_data"
    },
    {
     "name": "stdout",
     "output_type": "stream",
     "text": [
      "Marking org.postgresql:postgresql:42.3.3 for download\n",
      "Obtained 2 files\n"
     ]
    }
   ],
   "source": [
    "%AddDeps com.datastax.spark spark-cassandra-connector_2.11 2.4.3\n",
    "%AddDeps org.elasticsearch elasticsearch-spark-20_2.11 6.8.22\n",
    "%AddDeps org.postgresql postgresql 42.3.3"
   ]
  },
  {
   "cell_type": "code",
   "execution_count": 2,
   "metadata": {},
   "outputs": [],
   "source": [
    "import org.apache.spark.sql.{DataFrame, SparkSession, Column}\n",
    "\n",
    "import org.postgresql.Driver\n",
    "import java.sql.{Connection, DriverManager, Statement}\n",
    "\n",
    "import org.apache.spark.sql.expressions.UserDefinedFunction\n",
    "import org.apache.spark.sql.functions.{udf, col, sum, explode, lit}\n",
    "\n",
    "import scala.collection.mutable.WrappedArray \n",
    "import java.net.{URL, URLDecoder}\n",
    "import scala.util.Try"
   ]
  },
  {
   "cell_type": "code",
   "execution_count": 3,
   "metadata": {},
   "outputs": [
    {
     "data": {
      "text/plain": [
       "spark = org.apache.spark.sql.SparkSession@61533a53\n"
      ]
     },
     "metadata": {},
     "output_type": "display_data"
    },
    {
     "data": {
      "text/plain": [
       "org.apache.spark.sql.SparkSession@61533a53"
      ]
     },
     "execution_count": 3,
     "metadata": {},
     "output_type": "execute_result"
    }
   ],
   "source": [
    "val spark: SparkSession = SparkSession.builder()\n",
    ".config(\"spark.cassandra.connection.host\", \"10.0.0.31\")\n",
    ".config(\"spark.cassandra.connection.port\", \"9042\")\n",
    ".config(\"spark.jars\", \"/data/home/dmitriy.shirshov/postgresql-42.3.3.jar\")\n",
    ".appName(\"Shirshov scala k test\")\n",
    ".getOrCreate()"
   ]
  },
  {
   "cell_type": "code",
   "execution_count": 4,
   "metadata": {},
   "outputs": [
    {
     "data": {
      "text/plain": [
       "clients = [uid: string, age: int ... 1 more field]\n"
      ]
     },
     "metadata": {},
     "output_type": "display_data"
    },
    {
     "data": {
      "text/plain": [
       "[uid: string, age: int ... 1 more field]"
      ]
     },
     "execution_count": 4,
     "metadata": {},
     "output_type": "execute_result"
    }
   ],
   "source": [
    "val clients: DataFrame = spark.read\n",
    ".format(\"org.apache.spark.sql.cassandra\")\n",
    ".options(Map(\"table\" -> \"clients\", \"keyspace\" -> \"labdata\"))\n",
    ".load()"
   ]
  },
  {
   "cell_type": "code",
   "execution_count": 33,
   "metadata": {},
   "outputs": [
    {
     "data": {
      "text/plain": [
       "logs = [uid: string, visits: array<struct<timestamp:bigint,url:string>>]\n"
      ]
     },
     "metadata": {},
     "output_type": "display_data"
    },
    {
     "data": {
      "text/plain": [
       "[uid: string, visits: array<struct<timestamp:bigint,url:string>>]"
      ]
     },
     "execution_count": 33,
     "metadata": {},
     "output_type": "execute_result"
    }
   ],
   "source": [
    "val logs: DataFrame = spark.read\n",
    ".json(\"hdfs:///labs/laba03/weblogs.json\")"
   ]
  },
  {
   "cell_type": "code",
   "execution_count": 37,
   "metadata": {},
   "outputs": [
    {
     "data": {
      "text/plain": [
       "visits = [category: string, event_type: string ... 5 more fields]\n"
      ]
     },
     "metadata": {},
     "output_type": "display_data"
    },
    {
     "data": {
      "text/plain": [
       "[category: string, event_type: string ... 5 more fields]"
      ]
     },
     "execution_count": 37,
     "metadata": {},
     "output_type": "execute_result"
    }
   ],
   "source": [
    "val visits: DataFrame = spark.read\n",
    ".format(\"org.elasticsearch.spark.sql\")\n",
    ".options(Map(\"es.read.metadata\" -> \"true\",\n",
    "             \"es.nodes.wan.only\" -> \"true\",\n",
    "             \"es.port\" -> \"9200\",\n",
    "             \"es.nodes\" -> \"10.0.0.31\",\n",
    "             \"es.net.ssl\" -> \"false\"))\n",
    ".load(\"visits\")"
   ]
  },
  {
   "cell_type": "code",
   "execution_count": 26,
   "metadata": {},
   "outputs": [
    {
     "data": {
      "text/plain": [
       "cats = [domain: string, category: string]\n"
      ]
     },
     "metadata": {},
     "output_type": "display_data"
    },
    {
     "data": {
      "text/plain": [
       "[domain: string, category: string]"
      ]
     },
     "execution_count": 26,
     "metadata": {},
     "output_type": "execute_result"
    }
   ],
   "source": [
    "val cats: DataFrame = spark.read\n",
    ".format(\"jdbc\")\n",
    ".option(\"url\", \"jdbc:postgresql://10.0.0.31:5432/labdata\")\n",
    ".option(\"dbtable\", \"domain_cats\")\n",
    ".option(\"user\", \"dmitriy_shirshov\")\n",
    ".option(\"password\", \"qR4cxBAf\")\n",
    ".option(\"driver\", \"org.postgresql.Driver\")\n",
    ".load()"
   ]
  },
  {
   "cell_type": "code",
   "execution_count": 99,
   "metadata": {
    "scrolled": false
   },
   "outputs": [
    {
     "data": {
      "text/plain": [
       "logsFiltered = [uid: string, target_domain: string]\n"
      ]
     },
     "metadata": {},
     "output_type": "display_data"
    },
    {
     "data": {
      "text/plain": [
       "lastException: Throwable = null\n"
      ]
     },
     "metadata": {},
     "output_type": "display_data"
    },
    {
     "data": {
      "text/plain": [
       "[uid: string, target_domain: string]"
      ]
     },
     "execution_count": 99,
     "metadata": {},
     "output_type": "execute_result"
    }
   ],
   "source": [
    "val logsFiltered: DataFrame  = logs \n",
    ".withColumn(\"info\", explode($\"visits\"))\n",
    ".select(\"uid\", \"info\")\n",
    ".select(\"uid\", \"info.*\")\n",
    ".withColumn(\"target_domain\", decodeUrlAndGetDomain(col(\"url\")))\n",
    ".drop(\"timestamp\", \"url\")\n",
    ".filter(\"target_domain != ''\")"
   ]
  },
  {
   "cell_type": "code",
   "execution_count": 86,
   "metadata": {},
   "outputs": [
    {
     "data": {
      "text/plain": [
       "clientsGrouped = [uid: string, gender: string ... 1 more field]\n"
      ]
     },
     "metadata": {},
     "output_type": "display_data"
    },
    {
     "data": {
      "text/plain": [
       "[uid: string, gender: string ... 1 more field]"
      ]
     },
     "execution_count": 86,
     "metadata": {},
     "output_type": "execute_result"
    }
   ],
   "source": [
    "val clientsGrouped: DataFrame = clients\n",
    ".withColumn(\"age_cat\", getAgeGroup(col(\"age\")))\n",
    ".drop(\"age\")"
   ]
  },
  {
   "cell_type": "code",
   "execution_count": 95,
   "metadata": {},
   "outputs": [
    {
     "data": {
      "text/plain": [
       "logsCategory = [uid: string, cat: string]\n"
      ]
     },
     "metadata": {},
     "output_type": "display_data"
    },
    {
     "data": {
      "text/plain": [
       "[uid: string, cat: string]"
      ]
     },
     "execution_count": 95,
     "metadata": {},
     "output_type": "execute_result"
    }
   ],
   "source": [
    "val logsCategory: DataFrame = logsFiltered\n",
    ".join(cats, $\"domain\" === $\"target_domain\")\n",
    ".select(\"uid\", \"category\")\n",
    ".withColumn(\"cat\", webUdf($\"category\"))\n",
    ".drop(\"category\")"
   ]
  },
  {
   "cell_type": "code",
   "execution_count": 91,
   "metadata": {},
   "outputs": [
    {
     "data": {
      "text/plain": [
       "visitsCategory = [uid: string, cat: string]\n"
      ]
     },
     "metadata": {},
     "output_type": "display_data"
    },
    {
     "data": {
      "text/plain": [
       "[uid: string, cat: string]"
      ]
     },
     "execution_count": 91,
     "metadata": {},
     "output_type": "execute_result"
    }
   ],
   "source": [
    "val visitsCategory: DataFrame = visits\n",
    ".filter(\"uid is not null\")\n",
    ".withColumn(\"cat\", catUdf($\"category\"))\n",
    ".select(\"uid\", \"cat\")"
   ]
  },
  {
   "cell_type": "code",
   "execution_count": 92,
   "metadata": {},
   "outputs": [
    {
     "data": {
      "text/plain": [
       "catsCategory = [uid: string, cat: string]\n"
      ]
     },
     "metadata": {},
     "output_type": "display_data"
    },
    {
     "data": {
      "text/plain": [
       "[uid: string, cat: string]"
      ]
     },
     "execution_count": 92,
     "metadata": {},
     "output_type": "execute_result"
    }
   ],
   "source": [
    "val catsCategory: DataFrame = visitsCategory\n",
    ".union(logsCategory)"
   ]
  },
  {
   "cell_type": "code",
   "execution_count": 100,
   "metadata": {},
   "outputs": [
    {
     "data": {
      "text/plain": [
       "writeStage = [uid: string, gender: string ... 40 more fields]\n"
      ]
     },
     "metadata": {},
     "output_type": "display_data"
    },
    {
     "data": {
      "text/plain": [
       "[uid: string, gender: string ... 40 more fields]"
      ]
     },
     "execution_count": 100,
     "metadata": {},
     "output_type": "execute_result"
    }
   ],
   "source": [
    "val writeStage: DataFrame = clientsGrouped.alias(\"a\")\n",
    ".join(catsCategory.alias(\"b\"),\n",
    "      col(\"a.uid\") === col(\"b.uid\"),\n",
    "      \"left\")\n",
    ".withColumn(\"counter\", lit(1))\n",
    ".groupBy(\"a.uid\", \"a.gender\", \"a.age_cat\")\n",
    ".pivot(\"b.cat\")\n",
    ".agg(sum($\"counter\"))\n",
    ".drop(\"null\")"
   ]
  },
  {
   "cell_type": "code",
   "execution_count": 101,
   "metadata": {},
   "outputs": [
    {
     "name": "stdout",
     "output_type": "stream",
     "text": [
      "root\n",
      " |-- uid: string (nullable = true)\n",
      " |-- gender: string (nullable = true)\n",
      " |-- age_cat: string (nullable = true)\n",
      " |-- shop_cameras: long (nullable = true)\n",
      " |-- shop_clothing: long (nullable = true)\n",
      " |-- shop_computers: long (nullable = true)\n",
      " |-- shop_cosmetics: long (nullable = true)\n",
      " |-- shop_entertainment_equipment: long (nullable = true)\n",
      " |-- shop_everyday_jewelry: long (nullable = true)\n",
      " |-- shop_house_repairs_paint_tools: long (nullable = true)\n",
      " |-- shop_household_appliances: long (nullable = true)\n",
      " |-- shop_household_furniture: long (nullable = true)\n",
      " |-- shop_kitchen_appliances: long (nullable = true)\n",
      " |-- shop_kitchen_utensils: long (nullable = true)\n",
      " |-- shop_luggage: long (nullable = true)\n",
      " |-- shop_mobile_phones: long (nullable = true)\n",
      " |-- shop_shoes: long (nullable = true)\n",
      " |-- shop_sports_equipment: long (nullable = true)\n",
      " |-- shop_toys: long (nullable = true)\n",
      " |-- web_arts_and_entertainment: long (nullable = true)\n",
      " |-- web_autos_and_vehicles: long (nullable = true)\n",
      " |-- web_beauty_and_fitness: long (nullable = true)\n",
      " |-- web_books_and_literature: long (nullable = true)\n",
      " |-- web_business_and_industry: long (nullable = true)\n",
      " |-- web_career_and_education: long (nullable = true)\n",
      " |-- web_computer_and_electronics: long (nullable = true)\n",
      " |-- web_finance: long (nullable = true)\n",
      " |-- web_food_and_drink: long (nullable = true)\n",
      " |-- web_gambling: long (nullable = true)\n",
      " |-- web_games: long (nullable = true)\n",
      " |-- web_health: long (nullable = true)\n",
      " |-- web_home_and_garden: long (nullable = true)\n",
      " |-- web_internet_and_telecom: long (nullable = true)\n",
      " |-- web_law_and_government: long (nullable = true)\n",
      " |-- web_news_and_media: long (nullable = true)\n",
      " |-- web_pets_and_animals: long (nullable = true)\n",
      " |-- web_recreation_and_hobbies: long (nullable = true)\n",
      " |-- web_reference: long (nullable = true)\n",
      " |-- web_science: long (nullable = true)\n",
      " |-- web_shopping: long (nullable = true)\n",
      " |-- web_sports: long (nullable = true)\n",
      " |-- web_travel: long (nullable = true)\n",
      "\n"
     ]
    }
   ],
   "source": [
    "writeStage.printSchema"
   ]
  },
  {
   "cell_type": "code",
   "execution_count": 102,
   "metadata": {},
   "outputs": [],
   "source": [
    "writeStage.write\n",
    ".format(\"jdbc\")\n",
    ".option(\"url\", \"jdbc:postgresql://10.0.0.31:5432/dmitriy_shirshov\")\n",
    ".option(\"dbtable\", \"clients\")\n",
    ".option(\"user\", \"dmitriy_shirshov\")\n",
    ".option(\"password\", \"qR4cxBAf\")\n",
    ".option(\"driver\", \"org.postgresql.Driver\")\n",
    ".option(\"truncate\", value = true)\n",
    ".mode(\"overwrite\")\n",
    ".save()"
   ]
  },
  {
   "cell_type": "code",
   "execution_count": 96,
   "metadata": {},
   "outputs": [
    {
     "data": {
      "text/plain": [
       "Array([d50192e5-c44e-4ae8-ae7a-7cfe67c8b777,web_news_and_media], [d50192e5-c44e-4ae8-ae7a-7cfe67c8b777,web_news_and_media], [d50192e5-c44e-4ae8-ae7a-7cfe67c8b777,web_news_and_media], [d50192e5-c44e-4ae8-ae7a-7cfe67c8b777,web_news_and_media])"
      ]
     },
     "execution_count": 96,
     "metadata": {},
     "output_type": "execute_result"
    }
   ],
   "source": [
    "logsCategory\n",
    ".filter(col(\"uid\") === \"d50192e5-c44e-4ae8-ae7a-7cfe67c8b777\").collect()"
   ]
  },
  {
   "cell_type": "code",
   "execution_count": 88,
   "metadata": {},
   "outputs": [
    {
     "data": {
      "text/plain": [
       "Array([d50192e5-c44e-4ae8-ae7a-7cfe67c8b777,zebra-zoya.ru], [d50192e5-c44e-4ae8-ae7a-7cfe67c8b777,news.yandex.ru], [d50192e5-c44e-4ae8-ae7a-7cfe67c8b777,sotovik.ru], [d50192e5-c44e-4ae8-ae7a-7cfe67c8b777,news.yandex.ru], [d50192e5-c44e-4ae8-ae7a-7cfe67c8b777,sotovik.ru])"
      ]
     },
     "execution_count": 88,
     "metadata": {},
     "output_type": "execute_result"
    }
   ],
   "source": [
    "logsFiltered\n",
    ".filter(col(\"uid\") === \"d50192e5-c44e-4ae8-ae7a-7cfe67c8b777\").collect()"
   ]
  },
  {
   "cell_type": "code",
   "execution_count": 77,
   "metadata": {},
   "outputs": [
    {
     "data": {
      "text/plain": [
       "Array([d50192e5-c44e-4ae8-ae7a-7cfe67c8b777,WrappedArray([1419688144068,http://zebra-zoya.ru/200028-chehol-organayzer-dlja-macbook-11-grid-it.html?utm_campaign=397720794&utm_content=397729344&utm_medium=cpc&utm_source=begun], [1426666298001,http://news.yandex.ru/yandsearch?cl4url=chezasite.com/htc/htc-one-m9-delay-86327.html&lr=213&rpt=story], [1426666298000,http://www.sotovik.ru/news/240283-htc-one-m9-zaderzhivaetsja.html], [1426661722001,http://news.yandex.ru/yandsearch?cl4url=chezasite.com/htc/htc-one-m9-delay-86327.html&lr=213&rpt=story], [1426661722000,http://www.sotovik.ru/news/240283-htc-one-m9-zaderzhivaetsja.html])])"
      ]
     },
     "execution_count": 77,
     "metadata": {},
     "output_type": "execute_result"
    }
   ],
   "source": [
    "logs\n",
    ".filter(col(\"uid\") === \"d50192e5-c44e-4ae8-ae7a-7cfe67c8b777\").collect()"
   ]
  },
  {
   "cell_type": "code",
   "execution_count": 176,
   "metadata": {},
   "outputs": [],
   "source": [
    "spark.stop()"
   ]
  },
  {
   "cell_type": "markdown",
   "metadata": {},
   "source": [
    "### Conf_functions "
   ]
  },
  {
   "cell_type": "code",
   "execution_count": 97,
   "metadata": {},
   "outputs": [
    {
     "data": {
      "text/plain": [
       "defined object data_assembler\n"
      ]
     },
     "metadata": {},
     "output_type": "display_data"
    }
   ],
   "source": [
    "object data_assembler {\n",
    "\n",
    "  private def decodeUrlAndGetDomain: UserDefinedFunction = udf((url: String) => {\n",
    "\n",
    "    Try {\n",
    "      new URL(URLDecoder.decode(url, \"UTF-8\")).getHost.replace(\"www.\", \"\")\n",
    "\n",
    "    }\n",
    "      .getOrElse(\"\")\n",
    "  })\n",
    "\n",
    "  private def getAgeGroup: UserDefinedFunction = udf((age: Integer) => {\n",
    "\n",
    "    age match {\n",
    "      case a if a >= 18 && a <= 24 => \"18-24\"\n",
    "      case a if a >= 25 && a <= 34 => \"25-34\"\n",
    "      case a if a >= 35 && a <= 44 => \"35-44\"\n",
    "      case a if a >= 45 && a <= 54 => \"45-54\"\n",
    "      case a if a >= 55 => \">=55\"\n",
    "    }\n",
    "  })\n",
    "\n",
    "  private def webUdf: UserDefinedFunction = udf((web: String) => {\n",
    "\n",
    "    \"web_\" + web\n",
    "\n",
    "  })\n",
    "  private def catUdf: UserDefinedFunction = udf((cat: String) => {\n",
    "\n",
    "    \"shop_\" + cat.toLowerCase.split(\"-\").mkString(\"_\")\n",
    "\n",
    "  })\n",
    "\n",
    "  private def createTableWithGrant(shop_cols: Array[Any],\n",
    "                           web_cols: Array[Any]): Unit = {\n",
    "\n",
    "    val driverClass: Class[Driver] = classOf[org.postgresql.Driver]\n",
    "    val driver: Any = Class.forName(\"org.postgresql.Driver\").newInstance()\n",
    "    val url = \"jdbc:postgresql://10.0.0.31:5432/dmitriy_shirshov?user=dmitriy_shirshov&password=qR4cxBAf\"\n",
    "    val connection: Connection = DriverManager.getConnection(url)\n",
    "    val statement: Statement = connection.createStatement()\n",
    "\n",
    "    val query: String = (\"create table if not exists clients (uid varchar(40), gender varchar(1), age_cat varchar(5), \"\n",
    "      + shop_cols.mkString(s\" int, \") + \" int, \"\n",
    "      + web_cols.mkString(s\" int, \") + \" int);\")\n",
    "    val bool_0: Boolean = statement.execute(query)\n",
    "\n",
    "    val bool_1: Boolean = statement.execute(\"grant select on clients to labchecker2;\")\n",
    "    connection.close()\n",
    "  }\n",
    "\n",
    "  def data_assembler(): Unit = {\n",
    "\n",
    "    val spark: SparkSession = SparkSession.builder()\n",
    "      .config(\"spark.cassandra.connection.host\", \"10.0.0.31\")\n",
    "      .config(\"spark.cassandra.connection.port\", \"9042\")\n",
    "      .appName(\"Shirshov scala k test\")\n",
    "      .getOrCreate()\n",
    "\n",
    "    val clients: DataFrame = spark.read\n",
    "      .format(\"org.apache.spark.sql.cassandra\")\n",
    "      .options(Map(\"table\" -> \"clients\", \"keyspace\" -> \"labdata\"))\n",
    "      .load()\n",
    "\n",
    "    val logs: DataFrame = spark.read\n",
    "      .json(\"hdfs:///labs/laba03/weblogs.json\")\n",
    "\n",
    "    val visits: DataFrame = spark.read\n",
    "      .format(\"org.elasticsearch.spark.sql\")\n",
    "      .options(Map(\"es.read.metadata\" -> \"true\",\n",
    "        \"es.nodes.wan.only\" -> \"true\",\n",
    "        \"es.port\" -> \"9200\",\n",
    "        \"es.nodes\" -> \"10.0.0.31\",\n",
    "        \"es.net.ssl\" -> \"false\"))\n",
    "      .load(\"visits\")\n",
    "\n",
    "    val shop_cols: Array[Any] = {\n",
    "      visits\n",
    "        .select(\"category\")\n",
    "        .distinct\n",
    "        .withColumn(\"shop_item\",\n",
    "          catUdf(col(\"category\")))\n",
    "        .sort(\"shop_item\")\n",
    "        .rdd\n",
    "        .map(v => v{1})\n",
    "        .collect()\n",
    "    }\n",
    "\n",
    "    val cats: DataFrame = spark.read\n",
    "      .format(\"jdbc\")\n",
    "      .option(\"url\", \"jdbc:postgresql://10.0.0.31:5432/labdata\")\n",
    "      .option(\"dbtable\", \"domain_cats\")\n",
    "      .option(\"user\", \"dmitriy_shirshov\")\n",
    "      .option(\"password\", \"qR4cxBAf\")\n",
    "      .option(\"driver\", \"org.postgresql.Driver\")\n",
    "      .load()\n",
    "\n",
    "    val web_cols: Array[Any] = {\n",
    "      cats\n",
    "        .withColumn(\"web_category\", webUdf(col(\"category\")))\n",
    "        .select(\"web_category\")\n",
    "        .distinct\n",
    "        .sort(\"web_category\")\n",
    "        .rdd\n",
    "        .map(v => v{0})\n",
    "        .collect()\n",
    "    }\n",
    "\n",
    "    createTableWithGrant(shop_cols, web_cols)\n",
    "\n",
    "    val logsFiltered: DataFrame = logs\n",
    "      .withColumn(\"info\", explode(col(\"visits\")))\n",
    "      .select(\"uid\", \"info\")\n",
    "      .select(\"uid\", \"info.*\")\n",
    "      .withColumn(\"target_domain\", decodeUrlAndGetDomain(col(\"url\")))\n",
    "      .drop(\"timestamp\", \"url\")\n",
    "      .filter(\"target_domain != ''\")\n",
    "\n",
    "    val clientsGrouped: DataFrame = clients\n",
    "      .withColumn(\"age_cat\", getAgeGroup(col(\"age\")))\n",
    "      .drop(\"age\")\n",
    "\n",
    "    val logsCategory: DataFrame = logsFiltered\n",
    "      .join(cats, col(\"domain\") === col(\"target_domain\"))\n",
    "      .select(\"uid\", \"category\")\n",
    "      .withColumn(\"cat\", webUdf(col(\"category\")))\n",
    "      .drop(\"category\")\n",
    "\n",
    "    val visitsCategory: DataFrame = visits\n",
    "      .filter(\"uid is not null\")\n",
    "      .withColumn(\"cat\", catUdf(col(\"category\")))\n",
    "      .select(\"uid\", \"cat\")\n",
    "\n",
    "    val catsCategory: DataFrame = visitsCategory\n",
    "      .union(logsCategory)\n",
    "\n",
    "    val writeStage: DataFrame = clientsGrouped.alias(\"a\")\n",
    "    .join(catsCategory.alias(\"b\"),\n",
    "          col(\"a.uid\") === col(\"b.uid\"),\n",
    "          \"left\")\n",
    "    .withColumn(\"counter\", lit(1))\n",
    "    .groupBy(\"a.uid\", \"a.gender\", \"a.age_cat\")\n",
    "    .pivot(\"b.cat\")\n",
    "    .agg(sum($\"counter\"))\n",
    "\n",
    "    writeStage.write\n",
    "      .format(\"jdbc\")\n",
    "      .option(\"url\", \"jdbc:postgresql://10.0.0.31:5432/dmitriy_shirshov\")\n",
    "      .option(\"dbtable\", \"clients\")\n",
    "      .option(\"user\", \"dmitriy_shirshov\")\n",
    "      .option(\"password\", \"qR4cxBAf\")\n",
    "      .option(\"driver\", \"org.postgresql.Driver\")\n",
    "      .option(\"truncate\", value = true)\n",
    "      .mode(\"overwrite\")\n",
    "      .save()\n",
    "\n",
    "    spark.stop\n",
    "\n",
    "  }\n",
    "}"
   ]
  },
  {
   "cell_type": "code",
   "execution_count": null,
   "metadata": {},
   "outputs": [],
   "source": [
    "data_assembler.data_assembler()"
   ]
  },
  {
   "cell_type": "markdown",
   "metadata": {},
   "source": [
    "### Initiate instance"
   ]
  },
  {
   "cell_type": "code",
   "execution_count": 139,
   "metadata": {},
   "outputs": [
    {
     "data": {
      "text/plain": [
       "shop_cols = Array(shop_cameras, shop_clothing, shop_computers, shop_cosmetics, shop_entertainment_equipment, shop_everyday_jewelry, shop_house_repairs_paint_tools, shop_household_appliances, shop_household_furniture, shop_kitchen_appliances, shop_kitchen_utensils, shop_luggage, shop_mobile_phones, shop_shoes, shop_sports_equipment, shop_toys)\n",
       "web_cols = Array(web_arts_and_entertainment, web_autos_and_vehicles, web_beauty_and_fitness, web_books_and_literature, web_business_and_industry, web_career_and_education, web_computer_and_electronics, web_finance, web_food_and_drink, web_gambling, web_games, web_health, web_home_and_garden, web_internet_and_telecom, web_law_and_government, web_news_and_media, web_pets_and_animals, web_recreation_and_hobbies, web_reference, ...\n"
      ]
     },
     "metadata": {},
     "output_type": "display_data"
    },
    {
     "data": {
      "text/plain": [
       "Array(web_arts_and_entertainment, web_autos_and_vehicles, web_beauty_and_fitness, web_books_and_literature, web_business_and_industry, web_career_and_education, web_computer_and_electronics, web_finance, web_food_and_drink, web_gambling, web_games, web_health, web_home_and_garden, web_internet_and_telecom, web_law_and_government, web_news_and_media, web_pets_and_animals, web_recreation_and_hobbies, web_reference, ..."
      ]
     },
     "execution_count": 139,
     "metadata": {},
     "output_type": "execute_result"
    }
   ],
   "source": [
    "val shop_cols: Array[Any] = {visits\n",
    "                             .select(\"category\")\n",
    "                             .distinct\n",
    "                             .withColumn(\"shop_item\",\n",
    "                                         catUdf(col(\"category\")))\n",
    "                             .sort(\"shop_item\")\n",
    "                             .rdd\n",
    "                             .map(v => v{1})\n",
    "                             .collect()}\n",
    "\n",
    "\n",
    "val web_cols: Array[Any] = {cats\n",
    "                            .withColumn(\"web_category\", webUdf(col(\"category\")))\n",
    "                            .select(\"web_category\")\n",
    "                            .distinct\n",
    "                            .sort(\"web_category\")\n",
    "                            .rdd\n",
    "                            .map(v => v{0})\n",
    "                            .collect()}"
   ]
  },
  {
   "cell_type": "code",
   "execution_count": 166,
   "metadata": {},
   "outputs": [
    {
     "data": {
      "text/plain": [
       "create table if not exists clients (uid varchar(40), gender varchar(1), age_cat integer, shop_cameras integer, shop_clothing integer, shop_computers integer, shop_cosmetics integer, shop_entertainment_equipment integer, shop_everyday_jewelry integer, shop_house_repairs_paint_tools integer, shop_household_appliances integer, shop_household_furniture integer, shop_kitchen_appliances integer, shop_kitchen_utensils integer, shop_luggage integer, shop_mobile_phones integer, shop_shoes integer, shop_sports_equipment integer, shop_toys integer, web_arts_and_entertainment integer, web_autos_and_vehicles integer, web_beauty_and_fitness integer, web_books_and_literature integer, web_business_and_industry integer, web_career_and_education integer, web_computer_and_electronics inte..."
      ]
     },
     "execution_count": 166,
     "metadata": {},
     "output_type": "execute_result"
    }
   ],
   "source": [
    "\"create table if not exists clients (uid varchar(40), gender varchar(1), age_cat integer, \" + shop_cols.mkString(s\" integer, \") + \" integer, \" + web_cols.mkString(s\" integer, \")  + \" integer);\""
   ]
  },
  {
   "cell_type": "code",
   "execution_count": 171,
   "metadata": {},
   "outputs": [
    {
     "data": {
      "text/plain": [
       "createTableWithGrant: (shop_cols: Array[Any], web_cols: Array[Any])Unit\n"
      ]
     },
     "metadata": {},
     "output_type": "display_data"
    }
   ],
   "source": [
    "def createTableWithGrant(shop_cols: Array[Any],\n",
    "                         web_cols: Array[Any]): Unit = {\n",
    "    \n",
    "    val driverClass: Class[Driver] = classOf[org.postgresql.Driver]\n",
    "    val driver: Any = Class.forName(\"org.postgresql.Driver\").newInstance()\n",
    "    val url = \"jdbc:postgresql://10.0.0.31:5432/dmitriy_shirshov?user=dmitriy_shirshov&password=qR4cxBAf\"\n",
    "    val connection: Connection = DriverManager.getConnection(url)\n",
    "    val statement: Statement = connection.createStatement()\n",
    "    \n",
    "    val query: String = (\"create table if not exists clients (uid varchar(40), gender varchar(1), age_cat varchar(5), \" \n",
    "                         + shop_cols.mkString(s\" int, \") + \" int, \" \n",
    "                         + web_cols.mkString(s\" int, \")  + \" int);\")\n",
    "    val bool_0: Boolean = statement.execute(query)\n",
    "    \n",
    "    val bool_1: Boolean = statement.execute(\"grant select on clients to labchecker2;\")\n",
    "    connection.close()\n",
    "}"
   ]
  },
  {
   "cell_type": "code",
   "execution_count": 172,
   "metadata": {},
   "outputs": [],
   "source": [
    "createTableWithGrant(shop_cols, web_cols)"
   ]
  },
  {
   "cell_type": "code",
   "execution_count": null,
   "metadata": {},
   "outputs": [],
   "source": []
  },
  {
   "cell_type": "code",
   "execution_count": null,
   "metadata": {},
   "outputs": [],
   "source": []
  }
 ],
 "metadata": {
  "kernelspec": {
   "display_name": "Apache Toree - Scala",
   "language": "scala",
   "name": "apache_toree_scala"
  },
  "language_info": {
   "codemirror_mode": "text/x-scala",
   "file_extension": ".scala",
   "mimetype": "text/x-scala",
   "name": "scala",
   "pygments_lexer": "scala",
   "version": "2.11.12"
  }
 },
 "nbformat": 4,
 "nbformat_minor": 2
}
